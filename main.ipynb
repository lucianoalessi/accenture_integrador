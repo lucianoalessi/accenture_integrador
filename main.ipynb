{
 "cells": [
  {
   "cell_type": "markdown",
   "id": "03bbffdf",
   "metadata": {},
   "source": [
    "# Proyecto Integrador: Sistema de análisis de ventas\n",
    "\n",
    "Este notebook muestra cómo aplicar patrones de diseño en Python para interactuar con una base de datos MySQL, realizar consultas avanzadas y manipular los resultados de manera eficiente.\n",
    "\n",
    "**Requisitos previos:**\n",
    "- Tener configurado el archivo `.env` con los datos de conexión.\n",
    "- Haber ejecutado los scripts de creación de tablas y carga de datos, especificamente 'load_data.sql' dentro de la carpeta 'sql'.\n",
    "- Instalar las dependencias indicadas en el README.\n",
    "\n",
    "---"
   ]
  },
  {
   "cell_type": "markdown",
   "id": "beb331d2",
   "metadata": {},
   "source": [
    "# PI: Parte 2\n",
    "\n",
    "Este notebook muestra cómo utilizar patrones de diseño en Python para interactuar con una base de datos MySQL, realizar consultas avanzadas y manipular los resultados de manera eficiente.\n",
    "\n",
    "**Contenidos:**\n",
    "- Conexión a la base de datos (Singleton)\n",
    "- Ejecución de queries y conversión a objetos\n",
    "- Uso de Builder Pattern para consultas dinámicas"
   ]
  },
  {
   "cell_type": "code",
   "execution_count": 1,
   "id": "40e254e0",
   "metadata": {},
   "outputs": [],
   "source": [
    "# Configuración inicial y carga de módulos\n",
    "\n",
    "import sys\n",
    "from pathlib import Path\n",
    "import os\n",
    "\n",
    "# Agregar src al path para importar como paquete\n",
    "sys.path.append(str(Path().resolve()))\n",
    "\n",
    "from src.patterns.singleton.db_connector import MySQLConnector\n",
    "from src.patterns.builder_pattern.sales_query_builder import SalesQueryBuilder\n",
    "from src.patterns.factories.sale_factory import Salefactory"
   ]
  },
  {
   "cell_type": "code",
   "execution_count": 9,
   "id": "f892e5dd",
   "metadata": {},
   "outputs": [
    {
     "name": "stdout",
     "output_type": "stream",
     "text": [
      "Usando instancia existente.\n",
      "Conexion exitosa a la base de datos 'sales_accenture'\n"
     ]
    }
   ],
   "source": [
    "# Conexión a la base de datos usando Singleton\n",
    "\n",
    "db = MySQLConnector()\n",
    "db.conectar()"
   ]
  },
  {
   "cell_type": "code",
   "execution_count": 3,
   "id": "829958f7",
   "metadata": {},
   "outputs": [
    {
     "data": {
      "text/html": [
       "<div>\n",
       "<style scoped>\n",
       "    .dataframe tbody tr th:only-of-type {\n",
       "        vertical-align: middle;\n",
       "    }\n",
       "\n",
       "    .dataframe tbody tr th {\n",
       "        vertical-align: top;\n",
       "    }\n",
       "\n",
       "    .dataframe thead th {\n",
       "        text-align: right;\n",
       "    }\n",
       "</style>\n",
       "<table border=\"1\" class=\"dataframe\">\n",
       "  <thead>\n",
       "    <tr style=\"text-align: right;\">\n",
       "      <th></th>\n",
       "      <th>SalesID</th>\n",
       "      <th>SalesPersonID</th>\n",
       "      <th>CustomerID</th>\n",
       "      <th>ProductID</th>\n",
       "      <th>Quantity</th>\n",
       "      <th>Discount</th>\n",
       "      <th>TotalPrice</th>\n",
       "      <th>SalesDate</th>\n",
       "      <th>TransactionNumber</th>\n",
       "    </tr>\n",
       "  </thead>\n",
       "  <tbody>\n",
       "    <tr>\n",
       "      <th>0</th>\n",
       "      <td>14</td>\n",
       "      <td>7</td>\n",
       "      <td>33133</td>\n",
       "      <td>406</td>\n",
       "      <td>9</td>\n",
       "      <td>0.0</td>\n",
       "      <td>63.0</td>\n",
       "      <td>1 days 15:52:00</td>\n",
       "      <td>VOP9A7Y4C5XSM2LLT0UJ\\r</td>\n",
       "    </tr>\n",
       "    <tr>\n",
       "      <th>1</th>\n",
       "      <td>170</td>\n",
       "      <td>10</td>\n",
       "      <td>19039</td>\n",
       "      <td>377</td>\n",
       "      <td>5</td>\n",
       "      <td>0.0</td>\n",
       "      <td>50.0</td>\n",
       "      <td>1 days 09:40:00</td>\n",
       "      <td>VIIKLFPVD2D5U5E3NKKA\\r</td>\n",
       "    </tr>\n",
       "    <tr>\n",
       "      <th>2</th>\n",
       "      <td>416</td>\n",
       "      <td>16</td>\n",
       "      <td>71212</td>\n",
       "      <td>351</td>\n",
       "      <td>19</td>\n",
       "      <td>0.0</td>\n",
       "      <td>304.0</td>\n",
       "      <td>1 days 16:57:00</td>\n",
       "      <td>QFA3F3LANPC6UVQBPYL2\\r</td>\n",
       "    </tr>\n",
       "    <tr>\n",
       "      <th>3</th>\n",
       "      <td>486</td>\n",
       "      <td>23</td>\n",
       "      <td>93253</td>\n",
       "      <td>417</td>\n",
       "      <td>24</td>\n",
       "      <td>0.0</td>\n",
       "      <td>552.0</td>\n",
       "      <td>2 days 11:29:00</td>\n",
       "      <td>6H8SDUI9MCA1IXZ4UCUE\\r</td>\n",
       "    </tr>\n",
       "    <tr>\n",
       "      <th>4</th>\n",
       "      <td>659</td>\n",
       "      <td>13</td>\n",
       "      <td>65151</td>\n",
       "      <td>147</td>\n",
       "      <td>17</td>\n",
       "      <td>0.2</td>\n",
       "      <td>221.0</td>\n",
       "      <td>1 days 03:58:01</td>\n",
       "      <td>1O062RUFV0LVAQ94G38J\\r</td>\n",
       "    </tr>\n",
       "  </tbody>\n",
       "</table>\n",
       "</div>"
      ],
      "text/plain": [
       "   SalesID  SalesPersonID  CustomerID  ProductID  Quantity  Discount  \\\n",
       "0       14              7       33133        406         9       0.0   \n",
       "1      170             10       19039        377         5       0.0   \n",
       "2      416             16       71212        351        19       0.0   \n",
       "3      486             23       93253        417        24       0.0   \n",
       "4      659             13       65151        147        17       0.2   \n",
       "\n",
       "   TotalPrice       SalesDate       TransactionNumber  \n",
       "0        63.0 1 days 15:52:00  VOP9A7Y4C5XSM2LLT0UJ\\r  \n",
       "1        50.0 1 days 09:40:00  VIIKLFPVD2D5U5E3NKKA\\r  \n",
       "2       304.0 1 days 16:57:00  QFA3F3LANPC6UVQBPYL2\\r  \n",
       "3       552.0 2 days 11:29:00  6H8SDUI9MCA1IXZ4UCUE\\r  \n",
       "4       221.0 1 days 03:58:01  1O062RUFV0LVAQ94G38J\\r  "
      ]
     },
     "metadata": {},
     "output_type": "display_data"
    }
   ],
   "source": [
    "# Ejecutar una consulta simple y mostrar los primeros resultados\n",
    "\n",
    "query = \"SELECT * FROM sales LIMIT 5;\"\n",
    "df = db.query_df(query)\n",
    "display(df)  # Usar display para mejor visualización en Jupyter"
   ]
  },
  {
   "cell_type": "code",
   "execution_count": 4,
   "id": "adf8d08d",
   "metadata": {},
   "outputs": [
    {
     "data": {
      "text/plain": [
       "pandas.core.frame.DataFrame"
      ]
     },
     "execution_count": 4,
     "metadata": {},
     "output_type": "execute_result"
    }
   ],
   "source": [
    "# Verificar el tipo de objeto retornado\n",
    "\n",
    "type(df)"
   ]
  },
  {
   "cell_type": "code",
   "execution_count": 5,
   "id": "0c60305d",
   "metadata": {},
   "outputs": [
    {
     "data": {
      "text/plain": [
       "{'sales_id': 14,\n",
       " 'sales_person_id': 7,\n",
       " 'customer_id': 33133,\n",
       " 'product_id': (406,),\n",
       " 'quantity': (9,),\n",
       " 'discount': 0.0,\n",
       " 'total_price': 63.0,\n",
       " 'sales_date': Timedelta('1 days 15:52:00'),\n",
       " 'transaction_number': 'VOP9A7Y4C5XSM2LLT0UJ\\r'}"
      ]
     },
     "execution_count": 5,
     "metadata": {},
     "output_type": "execute_result"
    }
   ],
   "source": [
    "# Instanciar objetos Sale usando el Factory Method\n",
    "\n",
    "sales_objs = [Salefactory.from_series(row) for _, row in df.iterrows()]\n",
    "sales_objs[0].__dict__"
   ]
  },
  {
   "cell_type": "code",
   "execution_count": 6,
   "id": "26b42c5d",
   "metadata": {},
   "outputs": [
    {
     "name": "stdout",
     "output_type": "stream",
     "text": [
      "Consulta generada: SELECT * FROM sales WHERE CustomerID = 82723 AND Quantity >= 10\n"
     ]
    },
    {
     "data": {
      "text/html": [
       "<div>\n",
       "<style scoped>\n",
       "    .dataframe tbody tr th:only-of-type {\n",
       "        vertical-align: middle;\n",
       "    }\n",
       "\n",
       "    .dataframe tbody tr th {\n",
       "        vertical-align: top;\n",
       "    }\n",
       "\n",
       "    .dataframe thead th {\n",
       "        text-align: right;\n",
       "    }\n",
       "</style>\n",
       "<table border=\"1\" class=\"dataframe\">\n",
       "  <thead>\n",
       "    <tr style=\"text-align: right;\">\n",
       "      <th></th>\n",
       "      <th>SalesID</th>\n",
       "      <th>SalesPersonID</th>\n",
       "      <th>CustomerID</th>\n",
       "      <th>ProductID</th>\n",
       "      <th>Quantity</th>\n",
       "      <th>Discount</th>\n",
       "      <th>TotalPrice</th>\n",
       "      <th>SalesDate</th>\n",
       "      <th>TransactionNumber</th>\n",
       "    </tr>\n",
       "  </thead>\n",
       "  <tbody>\n",
       "    <tr>\n",
       "      <th>0</th>\n",
       "      <td>2982027</td>\n",
       "      <td>18</td>\n",
       "      <td>82723</td>\n",
       "      <td>440</td>\n",
       "      <td>21</td>\n",
       "      <td>0.0</td>\n",
       "      <td>378.0</td>\n",
       "      <td>0 days</td>\n",
       "      <td>D5GTTK1ANDEEGCD7XDF2\\r</td>\n",
       "    </tr>\n",
       "  </tbody>\n",
       "</table>\n",
       "</div>"
      ],
      "text/plain": [
       "   SalesID  SalesPersonID  CustomerID  ProductID  Quantity  Discount  \\\n",
       "0  2982027             18       82723        440        21       0.0   \n",
       "\n",
       "   TotalPrice SalesDate       TransactionNumber  \n",
       "0       378.0    0 days  D5GTTK1ANDEEGCD7XDF2\\r  "
      ]
     },
     "metadata": {},
     "output_type": "display_data"
    }
   ],
   "source": [
    "# Usar el Builder Pattern para crear una consulta dinámica\n",
    "# Ejemplo: Filtrar ventas de un cliente específico con cantidad mínima\n",
    "\n",
    "builder = (\n",
    "    SalesQueryBuilder().with_customer(82723).with_min_quantity(10)\n",
    ")\n",
    "\n",
    "query_filtrada = builder.build()\n",
    "print(\"Consulta generada:\", query_filtrada)\n",
    "\n",
    "df_filtrada = db.query_df(query_filtrada)\n",
    "display(df_filtrada)"
   ]
  },
  {
   "cell_type": "code",
   "execution_count": 7,
   "id": "9ecf4a15",
   "metadata": {},
   "outputs": [
    {
     "name": "stdout",
     "output_type": "stream",
     "text": [
      "Venta ID: 2982027, Monto: 378.0, ¿Alto Valor?: False\n"
     ]
    }
   ],
   "source": [
    "# Convertir resultados filtrados a objetos Sale\n",
    "\n",
    "ventas_filtradas = [Salefactory.from_series(row) for _, row in df_filtrada.iterrows()]\n",
    "\n",
    "for venta in ventas_filtradas[:3]:\n",
    "    print(f\"Venta ID: {venta.sales_id}, Monto: {venta.total_price}, ¿Alto Valor?: {venta.is_high_value()}\")"
   ]
  },
  {
   "cell_type": "code",
   "execution_count": 8,
   "id": "5a21676e",
   "metadata": {},
   "outputs": [
    {
     "name": "stdout",
     "output_type": "stream",
     "text": [
      "Conexion cerrada.\n"
     ]
    }
   ],
   "source": [
    "# Cerrar la conexión cuando no se necesite más\n",
    "db.cerrar()"
   ]
  },
  {
   "cell_type": "markdown",
   "id": "b396fef5",
   "metadata": {},
   "source": [
    "# PI: Parte 3\n",
    "\n",
    "## Consultas avanzadas: CTE y funciones de ventana\n",
    "\n",
    "En esta sección se utilizan CTEs (Common Table Expressions) y funciones de ventana para realizar análisis avanzados sobre los datos de ventas.\n",
    "\n",
    "**Contenidos:**\n",
    "- Consultas avanzadas: CTE y funciones de ventana\n",
    "- Creación y uso de vistas, funciones, procedimientos y triggers\n",
    "- Optimización de consultas con índices"
   ]
  },
  {
   "cell_type": "code",
   "execution_count": 12,
   "id": "2218c668",
   "metadata": {},
   "outputs": [
    {
     "name": "stdout",
     "output_type": "stream",
     "text": [
      "Acumulado de ventas por categoria:\n",
      "  CategoryName  total_sale  categoria_rank\n",
      "0  Confections    998526.0               1\n",
      "1         Meat    862283.0               2\n",
      "2      Poultry    815645.0               3\n",
      "3      Cereals    805381.0               4\n",
      "4      Produce    736564.0               5\n"
     ]
    }
   ],
   "source": [
    "# Acumulado de ventas por categoría usando Window Function\n",
    "\n",
    "query_window = SalesQueryBuilder().with_top_acumulado_por_categoria().build()\n",
    "df_windows = db.query_df(query_window)\n",
    "print(\"Acumulado de ventas por categoria:\")\n",
    "print(df_windows.head())"
   ]
  },
  {
   "cell_type": "code",
   "execution_count": 13,
   "id": "d4884712",
   "metadata": {},
   "outputs": [
    {
     "name": "stdout",
     "output_type": "stream",
     "text": [
      "Acumulado de ventas por producto:\n",
      "                       ProductName  total_sale  product_rank\n",
      "0        Coconut - Shredded; Sweet     23871.0             1\n",
      "1    Soup - Campbells; Beef Barley     23726.0             2\n",
      "2         Garlic - Primerba; Paste     23566.0             3\n",
      "3  Bread - Italian Roll With Herbs     23074.0             4\n",
      "4                     Brandy - Bar     22977.0             5\n"
     ]
    }
   ],
   "source": [
    "# Acumulado de ventas por producto usando Window Function\n",
    "\n",
    "query_window = SalesQueryBuilder().with_top_acumulado_por_producto().build()\n",
    "df_windows = db.query_df(query_window)\n",
    "print(\"Acumulado de ventas por producto:\")\n",
    "print(df_windows.head())"
   ]
  },
  {
   "cell_type": "code",
   "execution_count": 14,
   "id": "cab1bc82",
   "metadata": {},
   "outputs": [
    {
     "name": "stdout",
     "output_type": "stream",
     "text": [
      "Clientes con ventas totales mayores a 1000:\n",
      "     CustomerID   total\n",
      "0         79900  1407.0\n",
      "1         67814  1080.0\n",
      "2         97386  1325.0\n",
      "3         80634  1176.0\n",
      "4         97638  1275.0\n",
      "..          ...     ...\n",
      "147       95965  1100.0\n",
      "148       95617  1000.0\n",
      "149       81586  1050.0\n",
      "150       96141  1000.0\n",
      "151       88360  1035.0\n",
      "\n",
      "[152 rows x 2 columns]\n"
     ]
    }
   ],
   "source": [
    "# Usar CTE para filtrar clientes con ventas totales mayores a 1000\n",
    "\n",
    "query_cte = SalesQueryBuilder().with_ventas_cte(min_total=1000).build()\n",
    "df_cte = db.query_df(query_cte)\n",
    "print(\"Clientes con ventas totales mayores a 1000:\")\n",
    "print(df_cte)\n"
   ]
  },
  {
   "cell_type": "code",
   "execution_count": 15,
   "id": "139ff004",
   "metadata": {},
   "outputs": [
    {
     "name": "stdout",
     "output_type": "stream",
     "text": [
      "Acumulado de ventas por cliente:\n",
      "   CustomerID       SalesDate  TotalPrice  acumulado_cliente\n",
      "0           1 0 days 23:37:01         2.0                2.0\n",
      "1           1 2 days 07:10:00        19.0               21.0\n",
      "2           4 1 days 04:56:00        20.0               20.0\n",
      "3           8 0 days 11:43:00        20.0               20.0\n",
      "4          10 0 days 15:16:00        14.0               14.0\n"
     ]
    }
   ],
   "source": [
    "# Usar Window Function para acumulado de ventas por cliente\n",
    "\n",
    "query_window = SalesQueryBuilder().with_acumulado_por_cliente().build()\n",
    "df_windows = db.query_df(query_window)\n",
    "print(\"Acumulado de ventas por cliente:\")\n",
    "print(df_windows.head())"
   ]
  },
  {
   "cell_type": "markdown",
   "id": "bb176439",
   "metadata": {},
   "source": [
    "# Creación y uso de vistas, funciones y procedimientos\n",
    "\n",
    "En esta sección se ejecutan scripts SQL para crear vistas, funciones, procedimientos y triggers en la base de datos. Esto permite extender la funcionalidad y optimizar consultas."
   ]
  },
  {
   "cell_type": "code",
   "execution_count": 16,
   "id": "543385a0",
   "metadata": {},
   "outputs": [
    {
     "name": "stdout",
     "output_type": "stream",
     "text": [
      "Script 'sql\\view_sales_customer.sql' ejecutado correctamente.\n"
     ]
    }
   ],
   "source": [
    "# Crear vista de ventas por cliente\n",
    "# Si ocurre un error de SQL, se mostrará la sentencia problemática\n",
    "\n",
    "ruta = os.path.join('sql', 'view_sales_customer.sql')\n",
    "try:\n",
    "    db.ejecutar_script_sql(ruta)\n",
    "except Exception as e:\n",
    "    print(\"Error al ejecutar el script:\", e)"
   ]
  },
  {
   "cell_type": "code",
   "execution_count": 17,
   "id": "1877533c",
   "metadata": {},
   "outputs": [
    {
     "name": "stdout",
     "output_type": "stream",
     "text": [
      "Script 'sql\\view_sales_by_employee_month.sql' ejecutado correctamente.\n"
     ]
    }
   ],
   "source": [
    "# Crear vista de ventas por empleado y mes\n",
    "\n",
    "ruta2 = os.path.join('sql', 'view_sales_by_employee_month.sql')\n",
    "db.ejecutar_script_sql(ruta2)"
   ]
  },
  {
   "cell_type": "code",
   "execution_count": 18,
   "id": "9e22b95d",
   "metadata": {},
   "outputs": [
    {
     "name": "stdout",
     "output_type": "stream",
     "text": [
      "   SalesID  TotalPrice       SalesDate FirstName LastName\n",
      "0       14        63.0 1 days 15:52:00   Lakesha    Young\n",
      "1      170        50.0 1 days 09:40:00      Josh   Horton\n",
      "2      416       304.0 1 days 16:57:00      Ivan   Campos\n",
      "3      486       552.0 2 days 11:29:00     Grant      Day\n",
      "4      659       221.0 1 days 03:58:01     Devin  Herring\n"
     ]
    }
   ],
   "source": [
    "# Consultar la vista creada\n",
    "\n",
    "query = \"SELECT * FROM vista_ventas_clientes LIMIT 5;\"\n",
    "df = db.query_df(query)\n",
    "print(df)"
   ]
  },
  {
   "cell_type": "code",
   "execution_count": 19,
   "id": "941eb7b8",
   "metadata": {},
   "outputs": [
    {
     "name": "stdout",
     "output_type": "stream",
     "text": [
      "Script 'sql\\function_calculate_age.sql' ejecutado correctamente.\n"
     ]
    }
   ],
   "source": [
    "# Crear función para calcular edad\n",
    "\n",
    "ruta3 = os.path.join('sql', 'function_calculate_age.sql')\n",
    "db.ejecutar_script_sql(ruta3)"
   ]
  },
  {
   "cell_type": "code",
   "execution_count": null,
   "id": "31f08e2a",
   "metadata": {},
   "outputs": [],
   "source": [
    "# Crear procedimiento almacenado para empleados por rango de edad\n",
    "\n",
    "ruta4 = os.path.join('sql', 'procedure_get_employees_by_age_range.sql')\n",
    "db.ejecutar_script_sql(ruta4)"
   ]
  },
  {
   "cell_type": "code",
   "execution_count": 21,
   "id": "8735cd52",
   "metadata": {},
   "outputs": [
    {
     "name": "stdout",
     "output_type": "stream",
     "text": [
      "Script 'sql\\index.sql' ejecutado correctamente.\n"
     ]
    }
   ],
   "source": [
    "# Crear indices \n",
    "\n",
    "ruta5 = os.path.join('sql', 'index.sql')\n",
    "db.ejecutar_script_sql(ruta5)"
   ]
  },
  {
   "cell_type": "code",
   "execution_count": null,
   "id": "0312a70b",
   "metadata": {},
   "outputs": [],
   "source": [
    "# Ejemplo de scripts SQL para crear objetos en la base de datos\n",
    "\n",
    "sql_objects = \"\"\"\n",
    "\n",
    "-- 1. Vista: Resumen de ventas por empleado y mes\n",
    "CREATE OR REPLACE VIEW sales_by_employee_month AS\n",
    "SELECT\n",
    "    e.EmployeeID,\n",
    "    CONCAT(e.FirstName, ' ', e.LastName) as EmployeeName,\n",
    "    YEAR(s.SalesDate) as Year,\n",
    "    MONTH(s.SalesDate) as Month,\n",
    "    COUNT(*) as TotalTransactions,\n",
    "    SUM(s.Quantity) as TotalQuantity,\n",
    "    SUM(s.TotalPrice) as TotalSales\n",
    "FROM sales s\n",
    "JOIN employees e ON s.SalesPersonID = e.EmployeeID\n",
    "GROUP BY e.EmployeeID, EmployeeName, YEAR(s.SalesDate), MONTH(s.SalesDate)\n",
    "ORDER BY Year, Month, TotalSales DESC;\n",
    "\n",
    "-- 2. Funcion: calcular edad a partir de fecha de nacimiento\n",
    "DELIMITER // \n",
    "CREATE FUNCTION calculate_age(birth_date DATETIME)\n",
    "RETURNS INT\n",
    "DETERMINISTIC\n",
    "BEGIN\n",
    "    RETURN TIMESTAMPDIFF(YEAR, birth_date, CURDATE());\n",
    "END //\n",
    "DELIMITER ;\n",
    "\n",
    "-- 3. Procedimiento almacenado: obtener empleados por rango de edad\n",
    "DELIMITER //\n",
    "CREATE PROCEDURE get_employees_by_age_range(IN min_age INT, IN max_age INT)\n",
    "BEGIN\n",
    "    SELECT\n",
    "        EmployeeID,\n",
    "        CONCAT(FirstName, ' ', LastName) as EmployeeName,\n",
    "        calculate_age(BirthDate) as Age,\n",
    "        Gender,\n",
    "        HireDate\n",
    "    FROM employees\n",
    "    WHERE calculate_age(BirthDate) BETWEEN min_age AND max_age\n",
    "    ORDER BY Age;\n",
    "END //\n",
    "DELIMITER ;\n",
    "\n",
    "-- 4. Trigger: Registrar fecha de modificacion de productos\n",
    "DELIMITER //\n",
    "CREATE TRIGGER before_product_update\n",
    "BEFORE UPDATE ON products\n",
    "FOR EACH ROW\n",
    "BEGIN\n",
    "    SET NEW.ModifyDate = CURRENT_TIME();\n",
    "END // \n",
    "DELIMITER ;\n",
    "\n",
    "-- 5. Indice compuesto para mejorar consultas de ventas\n",
    "CREATE INDEX idx_sales_date_product ON sales(SalesDate, ProductID);\n",
    "CREATE INDEX idx_sales_customer_date ON sales(CustomerID, SalesDate);\n",
    "\n",
    "\"\"\""
   ]
  },
  {
   "cell_type": "markdown",
   "id": "98ea95db",
   "metadata": {},
   "source": [
    "# Extra:"
   ]
  },
  {
   "cell_type": "code",
   "execution_count": null,
   "id": "c6f9d484",
   "metadata": {},
   "outputs": [],
   "source": [
    "# Comparación de tiempos de consulta antes y después de crear índices\n",
    "\n",
    "import time\n",
    "\n",
    "print(\"Ejecutando consulta sin optimizar ...\")\n",
    "start = time.time()\n",
    "db.query_df(query_slow)\n",
    "slow_time = time.time() - start\n",
    "print(f\"Tiempo sin indice: {slow_time:.4f} segundos\")\n",
    "\n",
    "#CREATE INDEX idx_sales_date_product ON sales(SalesDate, ProductID);\n",
    "#CREATE INDEX idx_sales_customer_date ON sales(CustomerID, SalesDate);\n",
    "\n",
    "print(\"Ejecutando consulta optimizada...\")\n",
    "start = time.time()\n",
    "db.query_df(query_fast)\n",
    "fast_time = time.time() - start\n",
    "print(f\"Tiempo con indice: {fast_time:.4f} segundos\")\n",
    "print(f\"Mejora: {((slow_time - fast_time) / slow_time * 100):.2f}% más rápido\")"
   ]
  }
 ],
 "metadata": {
  "kernelspec": {
   "display_name": "venv",
   "language": "python",
   "name": "python3"
  },
  "language_info": {
   "codemirror_mode": {
    "name": "ipython",
    "version": 3
   },
   "file_extension": ".py",
   "mimetype": "text/x-python",
   "name": "python",
   "nbconvert_exporter": "python",
   "pygments_lexer": "ipython3",
   "version": "3.12.4"
  }
 },
 "nbformat": 4,
 "nbformat_minor": 5
}
